{
 "cells": [
  {
   "cell_type": "code",
   "execution_count": 13,
   "metadata": {},
   "outputs": [
    {
     "name": "stdout",
     "output_type": "stream",
     "text": [
      "The autoreload extension is already loaded. To reload it, use:\n",
      "  %reload_ext autoreload\n"
     ]
    }
   ],
   "source": [
    "%load_ext autoreload \n",
    "%autoreload 2"
   ]
  },
  {
   "cell_type": "code",
   "execution_count": 131,
   "metadata": {},
   "outputs": [],
   "source": [
    "from plotutils.plotutils import *\n",
    "plt.style.use('plotutils/kevin.mplstyle')\n",
    "import seaborn as sns\n",
    "\n",
    "from glob import glob \n",
    "from pathlib import Path \n",
    "from fastcore.xtras import load_pickle, save_pickle\n",
    "import pandas as pd\n",
    "\n",
    "from sklearn.model_selection import train_test_split\n",
    "from sklearn.preprocessing import StandardScaler\n",
    "from umap import UMAP \n",
    "from xgboost import XGBClassifier\n",
    "\n",
    "import numpy as np\n",
    "\n",
    "from shap import TreeExplainer\n",
    "\n",
    "from pycm import ConfusionMatrix"
   ]
  },
  {
   "cell_type": "code",
   "execution_count": 15,
   "metadata": {},
   "outputs": [],
   "source": [
    "labels = pd.read_csv('../data/Cement_Storage_UK_TSA.csv')"
   ]
  },
  {
   "cell_type": "code",
   "execution_count": 16,
   "metadata": {},
   "outputs": [],
   "source": [
    "labels_2 = pd.read_csv('../data/Material_KPIs_cement.csv')"
   ]
  },
  {
   "cell_type": "code",
   "execution_count": 17,
   "metadata": {},
   "outputs": [],
   "source": [
    "all_features = glob('../data/features/*.csv')"
   ]
  },
  {
   "cell_type": "code",
   "execution_count": 18,
   "metadata": {},
   "outputs": [],
   "source": [
    "ph_images = glob('../data/ph_feat_new_2/*.csv')"
   ]
  },
  {
   "cell_type": "code",
   "execution_count": 19,
   "metadata": {},
   "outputs": [],
   "source": [
    "loaded_feat = []\n",
    "\n",
    "for feat in all_features:\n",
    "    name = Path(feat).stem \n",
    "    feat = pd.read_csv(feat)\n",
    "    feat['name'] = name\n",
    "    loaded_feat.append(feat)"
   ]
  },
  {
   "cell_type": "code",
   "execution_count": 20,
   "metadata": {},
   "outputs": [],
   "source": [
    "ph_images_feat = []\n",
    "\n",
    "for ph in ph_images: \n",
    "    name = Path(ph).stem \n",
    "    feat = pd.read_csv(ph)\n",
    "    feat['name'] = name\n",
    "    ph_images_feat.append(feat)"
   ]
  },
  {
   "cell_type": "code",
   "execution_count": 21,
   "metadata": {},
   "outputs": [],
   "source": [
    "all_features = pd.concat(loaded_feat)\n",
    "del all_features['Unnamed: 0']"
   ]
  },
  {
   "cell_type": "code",
   "execution_count": 22,
   "metadata": {},
   "outputs": [],
   "source": [
    "ph_images_feat = pd.concat(ph_images_feat)"
   ]
  },
  {
   "cell_type": "code",
   "execution_count": 23,
   "metadata": {},
   "outputs": [],
   "source": [
    "features = [f for f in ph_images_feat.columns if 'ph' in f]\n",
    "no_ph_features = [f for f in all_features.columns if f not in features]"
   ]
  },
  {
   "cell_type": "code",
   "execution_count": 24,
   "metadata": {},
   "outputs": [],
   "source": [
    "joined_feat = pd.merge(\n",
    "    ph_images_feat[features + ['name']], \n",
    "    all_features[no_ph_features], \n",
    "    left_on='name', \n",
    "    right_on='name'\n",
    ")"
   ]
  },
  {
   "cell_type": "code",
   "execution_count": 25,
   "metadata": {},
   "outputs": [],
   "source": [
    "all_features = joined_feat"
   ]
  },
  {
   "cell_type": "code",
   "execution_count": 26,
   "metadata": {},
   "outputs": [],
   "source": [
    "feature_names = list(set(all_features.columns) - set(['name']))"
   ]
  },
  {
   "cell_type": "code",
   "execution_count": 132,
   "metadata": {},
   "outputs": [],
   "source": [
    "save_pickle('../data/feature_names.pkl', feature_names)"
   ]
  },
  {
   "cell_type": "code",
   "execution_count": 27,
   "metadata": {},
   "outputs": [],
   "source": [
    "all_data = pd.merge(all_features, labels, left_on='name', right_on='MOF')"
   ]
  },
  {
   "cell_type": "code",
   "execution_count": 28,
   "metadata": {},
   "outputs": [],
   "source": [
    "all_data = pd.merge(all_data, labels_2, left_on='name', right_on='MOF')"
   ]
  },
  {
   "attachments": {},
   "cell_type": "markdown",
   "metadata": {},
   "source": [
    "## Now, get the benchmark CAC"
   ]
  },
  {
   "cell_type": "code",
   "execution_count": 34,
   "metadata": {},
   "outputs": [],
   "source": [
    "import scipy.interpolate as sp_int\n",
    "\n",
    "MEA_nCAC_cem = 106.79148976385494  # €/tCO2\n",
    "MEA_recovery_cem = 90  # %\n",
    "\n",
    "data_CAC_cem = {'recovery': [90, 95, 99, 99.71, 99.93, 99.95],\n",
    "                'CAC_lit': [65, 65.5, 67.6, 69.1, 73.4, 74.1]} # for coal taken from https://doi.org/10.1016/j.ijggc.2021.103473 Figure 6\n",
    "\n",
    "CAC_interp_cem = sp_int.interp1d(data_CAC_cem['recovery'], data_CAC_cem['CAC_lit'], fill_value='extrapolate')\n",
    "df_MEA_CAC_cem_TSA = MEA_nCAC_cem * CAC_interp_cem(labels['recovery']) / data_CAC_cem['CAC_lit'][0]"
   ]
  },
  {
   "cell_type": "code",
   "execution_count": 133,
   "metadata": {},
   "outputs": [],
   "source": [
    "below_benchmark = []\n",
    "\n",
    "for i, row in all_data.iterrows(): \n",
    "    if row['nCAC'] > 0:\n",
    "        if row['nCAC'] < df_MEA_CAC_cem_TSA[i]:\n",
    "            below_benchmark.append(True)\n",
    "        else:\n",
    "            below_benchmark.append(False)\n",
    "    else:\n",
    "        below_benchmark.append(False)\n",
    "all_data['below_benchmark'] = below_benchmark"
   ]
  },
  {
   "cell_type": "code",
   "execution_count": 134,
   "metadata": {},
   "outputs": [],
   "source": [
    "all_data['below_water_benchmark'] = all_data['water_resistance'] < 0.7"
   ]
  },
  {
   "cell_type": "code",
   "execution_count": 135,
   "metadata": {},
   "outputs": [],
   "source": [
    "subset = all_data[all_data['below_benchmark'] == True]"
   ]
  },
  {
   "cell_type": "code",
   "execution_count": 136,
   "metadata": {},
   "outputs": [
    {
     "data": {
      "text/plain": [
       "below_water_benchmark\n",
       "True     317\n",
       "False     67\n",
       "Name: count, dtype: int64"
      ]
     },
     "execution_count": 136,
     "metadata": {},
     "output_type": "execute_result"
    }
   ],
   "source": [
    "subset['below_water_benchmark'].value_counts()"
   ]
  },
  {
   "cell_type": "code",
   "execution_count": 137,
   "metadata": {},
   "outputs": [],
   "source": [
    "all_data.to_pickle('../data/all_data.pkl')"
   ]
  },
  {
   "attachments": {},
   "cell_type": "markdown",
   "metadata": {},
   "source": [
    "## Build an initial model"
   ]
  },
  {
   "attachments": {},
   "cell_type": "markdown",
   "metadata": {},
   "source": [
    "### nCAC"
   ]
  },
  {
   "cell_type": "code",
   "execution_count": 138,
   "metadata": {},
   "outputs": [],
   "source": [
    "train, test = train_test_split(all_data, train_size=.7, stratify=all_data['below_benchmark'])"
   ]
  },
  {
   "cell_type": "code",
   "execution_count": 139,
   "metadata": {},
   "outputs": [],
   "source": [
    "ph_features = [f for f in feature_names if 'ph' in f]"
   ]
  },
  {
   "cell_type": "code",
   "execution_count": 140,
   "metadata": {},
   "outputs": [],
   "source": [
    "model = XGBClassifier(n_estimators=1000, max_depth=5, n_jobs=-1)"
   ]
  },
  {
   "cell_type": "code",
   "execution_count": 141,
   "metadata": {},
   "outputs": [
    {
     "data": {
      "text/html": [
       "<style>#sk-container-id-12 {color: black;background-color: white;}#sk-container-id-12 pre{padding: 0;}#sk-container-id-12 div.sk-toggleable {background-color: white;}#sk-container-id-12 label.sk-toggleable__label {cursor: pointer;display: block;width: 100%;margin-bottom: 0;padding: 0.3em;box-sizing: border-box;text-align: center;}#sk-container-id-12 label.sk-toggleable__label-arrow:before {content: \"▸\";float: left;margin-right: 0.25em;color: #696969;}#sk-container-id-12 label.sk-toggleable__label-arrow:hover:before {color: black;}#sk-container-id-12 div.sk-estimator:hover label.sk-toggleable__label-arrow:before {color: black;}#sk-container-id-12 div.sk-toggleable__content {max-height: 0;max-width: 0;overflow: hidden;text-align: left;background-color: #f0f8ff;}#sk-container-id-12 div.sk-toggleable__content pre {margin: 0.2em;color: black;border-radius: 0.25em;background-color: #f0f8ff;}#sk-container-id-12 input.sk-toggleable__control:checked~div.sk-toggleable__content {max-height: 200px;max-width: 100%;overflow: auto;}#sk-container-id-12 input.sk-toggleable__control:checked~label.sk-toggleable__label-arrow:before {content: \"▾\";}#sk-container-id-12 div.sk-estimator input.sk-toggleable__control:checked~label.sk-toggleable__label {background-color: #d4ebff;}#sk-container-id-12 div.sk-label input.sk-toggleable__control:checked~label.sk-toggleable__label {background-color: #d4ebff;}#sk-container-id-12 input.sk-hidden--visually {border: 0;clip: rect(1px 1px 1px 1px);clip: rect(1px, 1px, 1px, 1px);height: 1px;margin: -1px;overflow: hidden;padding: 0;position: absolute;width: 1px;}#sk-container-id-12 div.sk-estimator {font-family: monospace;background-color: #f0f8ff;border: 1px dotted black;border-radius: 0.25em;box-sizing: border-box;margin-bottom: 0.5em;}#sk-container-id-12 div.sk-estimator:hover {background-color: #d4ebff;}#sk-container-id-12 div.sk-parallel-item::after {content: \"\";width: 100%;border-bottom: 1px solid gray;flex-grow: 1;}#sk-container-id-12 div.sk-label:hover label.sk-toggleable__label {background-color: #d4ebff;}#sk-container-id-12 div.sk-serial::before {content: \"\";position: absolute;border-left: 1px solid gray;box-sizing: border-box;top: 0;bottom: 0;left: 50%;z-index: 0;}#sk-container-id-12 div.sk-serial {display: flex;flex-direction: column;align-items: center;background-color: white;padding-right: 0.2em;padding-left: 0.2em;position: relative;}#sk-container-id-12 div.sk-item {position: relative;z-index: 1;}#sk-container-id-12 div.sk-parallel {display: flex;align-items: stretch;justify-content: center;background-color: white;position: relative;}#sk-container-id-12 div.sk-item::before, #sk-container-id-12 div.sk-parallel-item::before {content: \"\";position: absolute;border-left: 1px solid gray;box-sizing: border-box;top: 0;bottom: 0;left: 50%;z-index: -1;}#sk-container-id-12 div.sk-parallel-item {display: flex;flex-direction: column;z-index: 1;position: relative;background-color: white;}#sk-container-id-12 div.sk-parallel-item:first-child::after {align-self: flex-end;width: 50%;}#sk-container-id-12 div.sk-parallel-item:last-child::after {align-self: flex-start;width: 50%;}#sk-container-id-12 div.sk-parallel-item:only-child::after {width: 0;}#sk-container-id-12 div.sk-dashed-wrapped {border: 1px dashed gray;margin: 0 0.4em 0.5em 0.4em;box-sizing: border-box;padding-bottom: 0.4em;background-color: white;}#sk-container-id-12 div.sk-label label {font-family: monospace;font-weight: bold;display: inline-block;line-height: 1.2em;}#sk-container-id-12 div.sk-label-container {text-align: center;}#sk-container-id-12 div.sk-container {/* jupyter's `normalize.less` sets `[hidden] { display: none; }` but bootstrap.min.css set `[hidden] { display: none !important; }` so we also need the `!important` here to be able to override the default hidden behavior on the sphinx rendered scikit-learn.org. See: https://github.com/scikit-learn/scikit-learn/issues/21755 */display: inline-block !important;position: relative;}#sk-container-id-12 div.sk-text-repr-fallback {display: none;}</style><div id=\"sk-container-id-12\" class=\"sk-top-container\"><div class=\"sk-text-repr-fallback\"><pre>XGBClassifier(base_score=None, booster=None, callbacks=None,\n",
       "              colsample_bylevel=None, colsample_bynode=None,\n",
       "              colsample_bytree=None, early_stopping_rounds=None,\n",
       "              enable_categorical=False, eval_metric=None, feature_types=None,\n",
       "              gamma=None, gpu_id=None, grow_policy=None, importance_type=None,\n",
       "              interaction_constraints=None, learning_rate=None, max_bin=None,\n",
       "              max_cat_threshold=None, max_cat_to_onehot=None,\n",
       "              max_delta_step=None, max_depth=5, max_leaves=None,\n",
       "              min_child_weight=None, missing=nan, monotone_constraints=None,\n",
       "              n_estimators=1000, n_jobs=-1, num_parallel_tree=None,\n",
       "              predictor=None, random_state=None, ...)</pre><b>In a Jupyter environment, please rerun this cell to show the HTML representation or trust the notebook. <br />On GitHub, the HTML representation is unable to render, please try loading this page with nbviewer.org.</b></div><div class=\"sk-container\" hidden><div class=\"sk-item\"><div class=\"sk-estimator sk-toggleable\"><input class=\"sk-toggleable__control sk-hidden--visually\" id=\"sk-estimator-id-12\" type=\"checkbox\" checked><label for=\"sk-estimator-id-12\" class=\"sk-toggleable__label sk-toggleable__label-arrow\">XGBClassifier</label><div class=\"sk-toggleable__content\"><pre>XGBClassifier(base_score=None, booster=None, callbacks=None,\n",
       "              colsample_bylevel=None, colsample_bynode=None,\n",
       "              colsample_bytree=None, early_stopping_rounds=None,\n",
       "              enable_categorical=False, eval_metric=None, feature_types=None,\n",
       "              gamma=None, gpu_id=None, grow_policy=None, importance_type=None,\n",
       "              interaction_constraints=None, learning_rate=None, max_bin=None,\n",
       "              max_cat_threshold=None, max_cat_to_onehot=None,\n",
       "              max_delta_step=None, max_depth=5, max_leaves=None,\n",
       "              min_child_weight=None, missing=nan, monotone_constraints=None,\n",
       "              n_estimators=1000, n_jobs=-1, num_parallel_tree=None,\n",
       "              predictor=None, random_state=None, ...)</pre></div></div></div></div></div>"
      ],
      "text/plain": [
       "XGBClassifier(base_score=None, booster=None, callbacks=None,\n",
       "              colsample_bylevel=None, colsample_bynode=None,\n",
       "              colsample_bytree=None, early_stopping_rounds=None,\n",
       "              enable_categorical=False, eval_metric=None, feature_types=None,\n",
       "              gamma=None, gpu_id=None, grow_policy=None, importance_type=None,\n",
       "              interaction_constraints=None, learning_rate=None, max_bin=None,\n",
       "              max_cat_threshold=None, max_cat_to_onehot=None,\n",
       "              max_delta_step=None, max_depth=5, max_leaves=None,\n",
       "              min_child_weight=None, missing=nan, monotone_constraints=None,\n",
       "              n_estimators=1000, n_jobs=-1, num_parallel_tree=None,\n",
       "              predictor=None, random_state=None, ...)"
      ]
     },
     "execution_count": 141,
     "metadata": {},
     "output_type": "execute_result"
    }
   ],
   "source": [
    "model.fit(train[feature_names], train['below_benchmark'].astype(int))"
   ]
  },
  {
   "cell_type": "code",
   "execution_count": 142,
   "metadata": {},
   "outputs": [],
   "source": [
    "predictions = model.predict(test[feature_names])"
   ]
  },
  {
   "cell_type": "code",
   "execution_count": 143,
   "metadata": {},
   "outputs": [
    {
     "data": {
      "text/plain": [
       "array([0, 1, 0, 1, 1, 1, 1, 1, 1, 0, 1, 0, 0, 1, 0, 1, 0, 1, 0, 1, 0, 0,\n",
       "       0, 0, 0, 1, 0, 1, 0, 0, 1, 0, 0, 1, 1, 0, 0, 1, 1, 1, 0, 1, 0, 1,\n",
       "       1, 0, 1, 1, 1, 1, 1, 1, 1, 1, 0, 0, 0, 1, 0, 1, 0, 0, 1, 0, 0, 1,\n",
       "       1, 0, 0, 1, 1, 1, 1, 0, 0, 0, 0, 1, 0, 1, 1, 1, 0, 0, 1, 1, 0, 1,\n",
       "       1, 1, 1, 1, 0, 1, 0, 0, 0, 1, 0, 0, 1, 0, 1, 0, 0, 1, 1, 0, 0, 1,\n",
       "       1, 0, 1, 1, 1, 1, 0, 0, 0, 0, 1, 1, 0, 0, 1, 0, 1, 1, 1, 0, 1, 1,\n",
       "       0, 1, 1, 0, 1, 0, 1, 1, 0, 1, 1, 0, 1, 1, 1, 0, 1, 0, 0, 0, 1, 0,\n",
       "       1, 1, 0, 1, 1, 1, 1, 1, 1, 1, 0, 1, 0, 0, 1, 1, 1, 1, 0, 0, 1, 0,\n",
       "       0, 1, 1, 1, 1, 1, 1, 0, 0, 1, 1, 0, 1, 1, 1, 0, 1, 1, 1, 0, 1, 0,\n",
       "       1, 0, 1, 0, 1, 0, 1, 0, 1, 1])"
      ]
     },
     "execution_count": 143,
     "metadata": {},
     "output_type": "execute_result"
    }
   ],
   "source": [
    "predictions"
   ]
  },
  {
   "cell_type": "code",
   "execution_count": 144,
   "metadata": {},
   "outputs": [],
   "source": [
    "cm = ConfusionMatrix(test['below_benchmark'].values.astype(int), predictions)"
   ]
  },
  {
   "cell_type": "code",
   "execution_count": 145,
   "metadata": {},
   "outputs": [
    {
     "data": {
      "image/png": "[encoded data removed]",
      "text/plain": [
       "<Figure size 330x250 with 2 Axes>"
      ]
     },
     "metadata": {},
     "output_type": "display_data"
    }
   ],
   "source": [
    "sns.heatmap(pd.DataFrame(cm.normalized_table), cmap='RdBu_r')\n",
    "plt.xticks([0.5,1.5], ['False', 'True'])\n",
    "plt.yticks([0.5,1.5], ['False', 'True'])\n",
    "\n",
    "plt.savefig('confusion_matrix_below_benchmark.pdf', bbox_inches='tight')"
   ]
  },
  {
   "cell_type": "code",
   "execution_count": 146,
   "metadata": {},
   "outputs": [
    {
     "name": "stdout",
     "output_type": "stream",
     "text": [
      "Predict  0        1        \n",
      "Actual\n",
      "0        65       27       \n",
      "\n",
      "1        24       92       \n",
      "\n",
      "\n",
      "\n",
      "\n",
      "\n",
      "Overall Statistics : \n",
      "\n",
      "95% CI                                                            (0.69634,0.81327)\n",
      "ACC Macro                                                         0.75481\n",
      "ARI                                                               0.25603\n",
      "AUNP                                                              0.74981\n",
      "AUNU                                                              0.74981\n",
      "Bangdiwala B                                                      0.57698\n",
      "Bennett S                                                         0.50962\n",
      "CBA                                                               0.73982\n",
      "CSI                                                               0.50154\n",
      "Chi-Squared                                                       52.31917\n",
      "Chi-Squared DF                                                    1\n",
      "Conditional Entropy                                               0.7964\n",
      "Cramer V                                                          0.50153\n",
      "Cross Entropy                                                     0.99099\n",
      "F1 Macro                                                          0.75061\n",
      "F1 Micro                                                          0.75481\n",
      "FNR Macro                                                         0.25019\n",
      "FNR Micro                                                         0.24519\n",
      "FPR Macro                                                         0.25019\n",
      "FPR Micro                                                         0.24519\n",
      "Gwet AC1                                                          0.51774\n",
      "Hamming Loss                                                      0.24519\n",
      "Joint Entropy                                                     1.78677\n",
      "KL Divergence                                                     0.00061\n",
      "Kappa                                                             0.50132\n",
      "Kappa 95% CI                                                      (0.38241,0.62023)\n",
      "Kappa No Prevalence                                               0.50962\n",
      "Kappa Standard Error                                              0.06067\n",
      "Kappa Unbiased                                                    0.50121\n",
      "Krippendorff Alpha                                                0.50241\n",
      "Lambda A                                                          0.44565\n",
      "Lambda B                                                          0.42697\n",
      "Mutual Information                                                0.18854\n",
      "NIR                                                               0.55769\n",
      "Overall ACC                                                       0.75481\n",
      "Overall CEN                                                       0.73883\n",
      "Overall J                                                         (1.2037,0.60185)\n",
      "Overall MCC                                                       0.50153\n",
      "Overall MCEN                                                      0.57228\n",
      "Overall RACC                                                      0.50832\n",
      "Overall RACCU                                                     0.50843\n",
      "P-Value                                                           0.0\n",
      "PPV Macro                                                         0.75172\n",
      "PPV Micro                                                         0.75481\n",
      "Pearson C                                                         0.44831\n",
      "Phi-Squared                                                       0.25153\n",
      "RCI                                                               0.19038\n",
      "RR                                                                104.0\n",
      "Reference Entropy                                                 0.99037\n",
      "Response Entropy                                                  0.98494\n",
      "SOA1(Landis & Koch)                                               Moderate\n",
      "SOA2(Fleiss)                                                      Intermediate to Good\n",
      "SOA3(Altman)                                                      Moderate\n",
      "SOA4(Cicchetti)                                                   Fair\n",
      "SOA5(Cramer)                                                      Relatively Strong\n",
      "SOA6(Matthews)                                                    Moderate\n",
      "Scott PI                                                          0.50121\n",
      "Standard Error                                                    0.02983\n",
      "TNR Macro                                                         0.74981\n",
      "TNR Micro                                                         0.75481\n",
      "TPR Macro                                                         0.74981\n",
      "TPR Micro                                                         0.75481\n",
      "Zero-one Loss                                                     51\n",
      "\n",
      "Class Statistics :\n",
      "\n",
      "Classes                                                           0             1             \n",
      "ACC(Accuracy)                                                     0.75481       0.75481       \n",
      "AGF(Adjusted F-score)                                             0.74336       0.75657       \n",
      "AGM(Adjusted geometric mean)                                      0.76451       0.73567       \n",
      "AM(Difference between automatic and manual classification)        -3            3             \n",
      "AUC(Area under the ROC curve)                                     0.74981       0.74981       \n",
      "AUCI(AUC value interpretation)                                    Good          Good          \n",
      "AUPR(Area under the PR curve)                                     0.71843       0.78311       \n",
      "BB(Braun-Blanquet similarity)                                     0.70652       0.77311       \n",
      "BCD(Bray-Curtis dissimilarity)                                    0.00721       0.00721       \n",
      "BM(Informedness or bookmaker informedness)                        0.49963       0.49963       \n",
      "CEN(Confusion entropy)                                            0.79597       0.69481       \n",
      "DOR(Diagnostic odds ratio)                                        9.2284        9.2284        \n",
      "DP(Discriminant power)                                            0.5321        0.5321        \n",
      "DPI(Discriminant power interpretation)                            Poor          Poor          \n",
      "ERR(Error rate)                                                   0.24519       0.24519       \n",
      "F0.5(F0.5 score)                                                  0.72545       0.77703       \n",
      "F1(F1 score - harmonic mean of precision and sensitivity)         0.71823       0.78298       \n",
      "F2(F2 score)                                                      0.71116       0.78902       \n",
      "FDR(False discovery rate)                                         0.26966       0.22689       \n",
      "FN(False negative/miss/type 2 error)                              27            24            \n",
      "FNR(Miss rate or false negative rate)                             0.29348       0.2069        \n",
      "FOR(False omission rate)                                          0.22689       0.26966       \n",
      "FP(False positive/type 1 error/false alarm)                       24            27            \n",
      "FPR(Fall-out or false positive rate)                              0.2069        0.29348       \n",
      "G(G-measure geometric mean of precision and sensitivity)          0.71833       0.78304       \n",
      "GI(Gini index)                                                    0.49963       0.49963       \n",
      "GM(G-mean geometric mean of specificity and sensitivity)          0.74856       0.74856       \n",
      "HD(Hamming distance)                                              51            51            \n",
      "IBA(Index of balanced accuracy)                                   0.51183       0.60886       \n",
      "ICSI(Individual classification success index)                     0.43686       0.56621       \n",
      "IS(Information score)                                             0.72351       0.4712        \n",
      "J(Jaccard index)                                                  0.56034       0.64336       \n",
      "LS(Lift score)                                                    1.6512        1.38626       \n",
      "MCC(Matthews correlation coefficient)                             0.50153       0.50153       \n",
      "MCCI(Matthews correlation coefficient interpretation)             Moderate      Moderate      \n",
      "MCEN(Modified confusion entropy)                                  0.95979       0.88624       \n",
      "MK(Markedness)                                                    0.50345       0.50345       \n",
      "N(Condition negative)                                             116           92            \n",
      "NLR(Negative likelihood ratio)                                    0.37004       0.29284       \n",
      "NLRI(Negative likelihood ratio interpretation)                    Poor          Poor          \n",
      "NPV(Negative predictive value)                                    0.77311       0.73034       \n",
      "OC(Overlap coefficient)                                           0.73034       0.7931        \n",
      "OOC(Otsuka-Ochiai coefficient)                                    0.71833       0.78304       \n",
      "OP(Optimized precision)                                           0.69707       0.69707       \n",
      "P(Condition positive or support)                                  92            116           \n",
      "PLR(Positive likelihood ratio)                                    3.41486       2.70243       \n",
      "PLRI(Positive likelihood ratio interpretation)                    Poor          Poor          \n",
      "POP(Population)                                                   208           208           \n",
      "PPV(Precision or positive predictive value)                       0.73034       0.77311       \n",
      "PRE(Prevalence)                                                   0.44231       0.55769       \n",
      "Q(Yule Q - coefficient of colligation)                            0.80447       0.80447       \n",
      "QI(Yule Q interpretation)                                         Strong        Strong        \n",
      "RACC(Random accuracy)                                             0.18926       0.31906       \n",
      "RACCU(Random accuracy unbiased)                                   0.18931       0.31912       \n",
      "TN(True negative/correct rejection)                               92            65            \n",
      "TNR(Specificity or true negative rate)                            0.7931        0.70652       \n",
      "TON(Test outcome negative)                                        119           89            \n",
      "TOP(Test outcome positive)                                        89            119           \n",
      "TP(True positive/hit)                                             65            92            \n",
      "TPR(Sensitivity, recall, hit rate, or true positive rate)         0.70652       0.7931        \n",
      "Y(Youden index)                                                   0.49963       0.49963       \n",
      "dInd(Distance index)                                              0.35908       0.35908       \n",
      "sInd(Similarity index)                                            0.74609       0.74609       \n",
      "\n"
     ]
    }
   ],
   "source": [
    "print(cm)"
   ]
  },
  {
   "attachments": {},
   "cell_type": "markdown",
   "metadata": {},
   "source": [
    "### Water resistance "
   ]
  },
  {
   "cell_type": "code",
   "execution_count": 147,
   "metadata": {},
   "outputs": [],
   "source": [
    "train, test = train_test_split(subset, train_size=.7, stratify=subset['below_water_benchmark'])"
   ]
  },
  {
   "cell_type": "code",
   "execution_count": 148,
   "metadata": {},
   "outputs": [],
   "source": [
    "model_water = XGBClassifier(n_estimators=1000, max_depth=5, n_jobs=-1,  scale_pos_weight=69/321)"
   ]
  },
  {
   "cell_type": "code",
   "execution_count": 149,
   "metadata": {},
   "outputs": [
    {
     "data": {
      "text/html": [
       "<style>#sk-container-id-13 {color: black;background-color: white;}#sk-container-id-13 pre{padding: 0;}#sk-container-id-13 div.sk-toggleable {background-color: white;}#sk-container-id-13 label.sk-toggleable__label {cursor: pointer;display: block;width: 100%;margin-bottom: 0;padding: 0.3em;box-sizing: border-box;text-align: center;}#sk-container-id-13 label.sk-toggleable__label-arrow:before {content: \"▸\";float: left;margin-right: 0.25em;color: #696969;}#sk-container-id-13 label.sk-toggleable__label-arrow:hover:before {color: black;}#sk-container-id-13 div.sk-estimator:hover label.sk-toggleable__label-arrow:before {color: black;}#sk-container-id-13 div.sk-toggleable__content {max-height: 0;max-width: 0;overflow: hidden;text-align: left;background-color: #f0f8ff;}#sk-container-id-13 div.sk-toggleable__content pre {margin: 0.2em;color: black;border-radius: 0.25em;background-color: #f0f8ff;}#sk-container-id-13 input.sk-toggleable__control:checked~div.sk-toggleable__content {max-height: 200px;max-width: 100%;overflow: auto;}#sk-container-id-13 input.sk-toggleable__control:checked~label.sk-toggleable__label-arrow:before {content: \"▾\";}#sk-container-id-13 div.sk-estimator input.sk-toggleable__control:checked~label.sk-toggleable__label {background-color: #d4ebff;}#sk-container-id-13 div.sk-label input.sk-toggleable__control:checked~label.sk-toggleable__label {background-color: #d4ebff;}#sk-container-id-13 input.sk-hidden--visually {border: 0;clip: rect(1px 1px 1px 1px);clip: rect(1px, 1px, 1px, 1px);height: 1px;margin: -1px;overflow: hidden;padding: 0;position: absolute;width: 1px;}#sk-container-id-13 div.sk-estimator {font-family: monospace;background-color: #f0f8ff;border: 1px dotted black;border-radius: 0.25em;box-sizing: border-box;margin-bottom: 0.5em;}#sk-container-id-13 div.sk-estimator:hover {background-color: #d4ebff;}#sk-container-id-13 div.sk-parallel-item::after {content: \"\";width: 100%;border-bottom: 1px solid gray;flex-grow: 1;}#sk-container-id-13 div.sk-label:hover label.sk-toggleable__label {background-color: #d4ebff;}#sk-container-id-13 div.sk-serial::before {content: \"\";position: absolute;border-left: 1px solid gray;box-sizing: border-box;top: 0;bottom: 0;left: 50%;z-index: 0;}#sk-container-id-13 div.sk-serial {display: flex;flex-direction: column;align-items: center;background-color: white;padding-right: 0.2em;padding-left: 0.2em;position: relative;}#sk-container-id-13 div.sk-item {position: relative;z-index: 1;}#sk-container-id-13 div.sk-parallel {display: flex;align-items: stretch;justify-content: center;background-color: white;position: relative;}#sk-container-id-13 div.sk-item::before, #sk-container-id-13 div.sk-parallel-item::before {content: \"\";position: absolute;border-left: 1px solid gray;box-sizing: border-box;top: 0;bottom: 0;left: 50%;z-index: -1;}#sk-container-id-13 div.sk-parallel-item {display: flex;flex-direction: column;z-index: 1;position: relative;background-color: white;}#sk-container-id-13 div.sk-parallel-item:first-child::after {align-self: flex-end;width: 50%;}#sk-container-id-13 div.sk-parallel-item:last-child::after {align-self: flex-start;width: 50%;}#sk-container-id-13 div.sk-parallel-item:only-child::after {width: 0;}#sk-container-id-13 div.sk-dashed-wrapped {border: 1px dashed gray;margin: 0 0.4em 0.5em 0.4em;box-sizing: border-box;padding-bottom: 0.4em;background-color: white;}#sk-container-id-13 div.sk-label label {font-family: monospace;font-weight: bold;display: inline-block;line-height: 1.2em;}#sk-container-id-13 div.sk-label-container {text-align: center;}#sk-container-id-13 div.sk-container {/* jupyter's `normalize.less` sets `[hidden] { display: none; }` but bootstrap.min.css set `[hidden] { display: none !important; }` so we also need the `!important` here to be able to override the default hidden behavior on the sphinx rendered scikit-learn.org. See: https://github.com/scikit-learn/scikit-learn/issues/21755 */display: inline-block !important;position: relative;}#sk-container-id-13 div.sk-text-repr-fallback {display: none;}</style><div id=\"sk-container-id-13\" class=\"sk-top-container\"><div class=\"sk-text-repr-fallback\"><pre>XGBClassifier(base_score=None, booster=None, callbacks=None,\n",
       "              colsample_bylevel=None, colsample_bynode=None,\n",
       "              colsample_bytree=None, early_stopping_rounds=None,\n",
       "              enable_categorical=False, eval_metric=None, feature_types=None,\n",
       "              gamma=None, gpu_id=None, grow_policy=None, importance_type=None,\n",
       "              interaction_constraints=None, learning_rate=None, max_bin=None,\n",
       "              max_cat_threshold=None, max_cat_to_onehot=None,\n",
       "              max_delta_step=None, max_depth=5, max_leaves=None,\n",
       "              min_child_weight=None, missing=nan, monotone_constraints=None,\n",
       "              n_estimators=1000, n_jobs=-1, num_parallel_tree=None,\n",
       "              predictor=None, random_state=None, ...)</pre><b>In a Jupyter environment, please rerun this cell to show the HTML representation or trust the notebook. <br />On GitHub, the HTML representation is unable to render, please try loading this page with nbviewer.org.</b></div><div class=\"sk-container\" hidden><div class=\"sk-item\"><div class=\"sk-estimator sk-toggleable\"><input class=\"sk-toggleable__control sk-hidden--visually\" id=\"sk-estimator-id-13\" type=\"checkbox\" checked><label for=\"sk-estimator-id-13\" class=\"sk-toggleable__label sk-toggleable__label-arrow\">XGBClassifier</label><div class=\"sk-toggleable__content\"><pre>XGBClassifier(base_score=None, booster=None, callbacks=None,\n",
       "              colsample_bylevel=None, colsample_bynode=None,\n",
       "              colsample_bytree=None, early_stopping_rounds=None,\n",
       "              enable_categorical=False, eval_metric=None, feature_types=None,\n",
       "              gamma=None, gpu_id=None, grow_policy=None, importance_type=None,\n",
       "              interaction_constraints=None, learning_rate=None, max_bin=None,\n",
       "              max_cat_threshold=None, max_cat_to_onehot=None,\n",
       "              max_delta_step=None, max_depth=5, max_leaves=None,\n",
       "              min_child_weight=None, missing=nan, monotone_constraints=None,\n",
       "              n_estimators=1000, n_jobs=-1, num_parallel_tree=None,\n",
       "              predictor=None, random_state=None, ...)</pre></div></div></div></div></div>"
      ],
      "text/plain": [
       "XGBClassifier(base_score=None, booster=None, callbacks=None,\n",
       "              colsample_bylevel=None, colsample_bynode=None,\n",
       "              colsample_bytree=None, early_stopping_rounds=None,\n",
       "              enable_categorical=False, eval_metric=None, feature_types=None,\n",
       "              gamma=None, gpu_id=None, grow_policy=None, importance_type=None,\n",
       "              interaction_constraints=None, learning_rate=None, max_bin=None,\n",
       "              max_cat_threshold=None, max_cat_to_onehot=None,\n",
       "              max_delta_step=None, max_depth=5, max_leaves=None,\n",
       "              min_child_weight=None, missing=nan, monotone_constraints=None,\n",
       "              n_estimators=1000, n_jobs=-1, num_parallel_tree=None,\n",
       "              predictor=None, random_state=None, ...)"
      ]
     },
     "execution_count": 149,
     "metadata": {},
     "output_type": "execute_result"
    }
   ],
   "source": [
    "model_water.fit(train[features], train['below_water_benchmark'].astype(int))"
   ]
  },
  {
   "cell_type": "code",
   "execution_count": 150,
   "metadata": {},
   "outputs": [],
   "source": [
    "predictions_water = model_water.predict(test[features])"
   ]
  },
  {
   "cell_type": "code",
   "execution_count": 151,
   "metadata": {},
   "outputs": [],
   "source": [
    "cm_water = ConfusionMatrix(test['below_water_benchmark'].values.astype(int), predictions_water)"
   ]
  },
  {
   "cell_type": "code",
   "execution_count": 152,
   "metadata": {},
   "outputs": [
    {
     "data": {
      "image/png": "[encoded data removed]",
      "text/plain": [
       "<Figure size 330x250 with 2 Axes>"
      ]
     },
     "metadata": {},
     "output_type": "display_data"
    }
   ],
   "source": [
    "sns.heatmap(pd.DataFrame(cm_water.normalized_table), cmap='RdBu_r')\n",
    "plt.xticks([0.5,1.5], ['False', 'True'])\n",
    "plt.yticks([0.5,1.5], ['False', 'True'])\n",
    "\n",
    "plt.savefig('confusion_matrix_water.pdf', bbox_inches='tight')"
   ]
  },
  {
   "cell_type": "code",
   "execution_count": 153,
   "metadata": {},
   "outputs": [
    {
     "name": "stdout",
     "output_type": "stream",
     "text": [
      "Predict  0        1        \n",
      "Actual\n",
      "0        15       5        \n",
      "\n",
      "1        9        87       \n",
      "\n",
      "\n",
      "\n",
      "\n",
      "\n",
      "Overall Statistics : \n",
      "\n",
      "95% CI                                                            (0.82003,0.93859)\n",
      "ACC Macro                                                         0.87931\n",
      "ARI                                                               0.50014\n",
      "AUNP                                                              0.82812\n",
      "AUNU                                                              0.82812\n",
      "Bangdiwala B                                                      0.83698\n",
      "Bennett S                                                         0.75862\n",
      "CBA                                                               0.76562\n",
      "CSI                                                               0.61345\n",
      "Chi-Squared                                                       43.4409\n",
      "Chi-Squared DF                                                    1\n",
      "Conditional Entropy                                               0.51135\n",
      "Cramer V                                                          0.61196\n",
      "Cross Entropy                                                     0.66866\n",
      "F1 Macro                                                          0.80368\n",
      "F1 Micro                                                          0.87931\n",
      "FNR Macro                                                         0.17188\n",
      "FNR Micro                                                         0.12069\n",
      "FPR Macro                                                         0.17188\n",
      "FPR Micro                                                         0.12069\n",
      "Gwet AC1                                                          0.82575\n",
      "Hamming Loss                                                      0.12069\n",
      "Joint Entropy                                                     1.17455\n",
      "KL Divergence                                                     0.00546\n",
      "Kappa                                                             0.60811\n",
      "Kappa 95% CI                                                      (0.41561,0.80061)\n",
      "Kappa No Prevalence                                               0.75862\n",
      "Kappa Standard Error                                              0.09821\n",
      "Kappa Unbiased                                                    0.60735\n",
      "Krippendorff Alpha                                                0.60904\n",
      "Lambda A                                                          0.3\n",
      "Lambda B                                                          0.41667\n",
      "Mutual Information                                                0.22416\n",
      "NIR                                                               0.82759\n",
      "Overall ACC                                                       0.87931\n",
      "Overall CEN                                                       0.4393\n",
      "Overall J                                                         (1.37863,0.68931)\n",
      "Overall MCC                                                       0.61196\n",
      "Overall MCEN                                                      0.34892\n",
      "Overall RACC                                                      0.69203\n",
      "Overall RACCU                                                     0.69263\n",
      "P-Value                                                           0.08395\n",
      "PPV Macro                                                         0.78533\n",
      "PPV Micro                                                         0.87931\n",
      "Pearson C                                                         0.52197\n",
      "Phi-Squared                                                       0.37449\n",
      "RCI                                                               0.338\n",
      "RR                                                                58.0\n",
      "Reference Entropy                                                 0.6632\n",
      "Response Entropy                                                  0.73551\n",
      "SOA1(Landis & Koch)                                               Substantial\n",
      "SOA2(Fleiss)                                                      Intermediate to Good\n",
      "SOA3(Altman)                                                      Good\n",
      "SOA4(Cicchetti)                                                   Good\n",
      "SOA5(Cramer)                                                      Strong\n",
      "SOA6(Matthews)                                                    Moderate\n",
      "Scott PI                                                          0.60735\n",
      "Standard Error                                                    0.03025\n",
      "TNR Macro                                                         0.82812\n",
      "TNR Micro                                                         0.87931\n",
      "TPR Macro                                                         0.82812\n",
      "TPR Micro                                                         0.87931\n",
      "Zero-one Loss                                                     14\n",
      "\n",
      "Class Statistics :\n",
      "\n",
      "Classes                                                           0             1             \n",
      "ACC(Accuracy)                                                     0.87931       0.87931       \n",
      "AGF(Adjusted F-score)                                             0.82224       0.76868       \n",
      "AGM(Adjusted geometric mean)                                      0.86148       0.81349       \n",
      "AM(Difference between automatic and manual classification)        4             -4            \n",
      "AUC(Area under the ROC curve)                                     0.82812       0.82812       \n",
      "AUCI(AUC value interpretation)                                    Very Good     Very Good     \n",
      "AUPR(Area under the PR curve)                                     0.6875        0.92595       \n",
      "BB(Braun-Blanquet similarity)                                     0.625         0.90625       \n",
      "BCD(Bray-Curtis dissimilarity)                                    0.01724       0.01724       \n",
      "BM(Informedness or bookmaker informedness)                        0.65625       0.65625       \n",
      "CEN(Confusion entropy)                                            0.82484       0.34907       \n",
      "DOR(Diagnostic odds ratio)                                        29.0          29.0          \n",
      "DP(Discriminant power)                                            0.80626       0.80626       \n",
      "DPI(Discriminant power interpretation)                            Poor          Poor          \n",
      "ERR(Error rate)                                                   0.12069       0.12069       \n",
      "F0.5(F0.5 score)                                                  0.64655       0.9375        \n",
      "F1(F1 score - harmonic mean of precision and sensitivity)         0.68182       0.92553       \n",
      "F2(F2 score)                                                      0.72115       0.91387       \n",
      "FDR(False discovery rate)                                         0.375         0.05435       \n",
      "FN(False negative/miss/type 2 error)                              5             9             \n",
      "FNR(Miss rate or false negative rate)                             0.25          0.09375       \n",
      "FOR(False omission rate)                                          0.05435       0.375         \n",
      "FP(False positive/type 1 error/false alarm)                       9             5             \n",
      "FPR(Fall-out or false positive rate)                              0.09375       0.25          \n",
      "G(G-measure geometric mean of precision and sensitivity)          0.68465       0.92574       \n",
      "GI(Gini index)                                                    0.65625       0.65625       \n",
      "GM(G-mean geometric mean of specificity and sensitivity)          0.82443       0.82443       \n",
      "HD(Hamming distance)                                              14            14            \n",
      "IBA(Index of balanced accuracy)                                   0.57349       0.78589       \n",
      "ICSI(Individual classification success index)                     0.375         0.8519        \n",
      "IS(Information score)                                             1.85798       0.1924        \n",
      "J(Jaccard index)                                                  0.51724       0.86139       \n",
      "LS(Lift score)                                                    3.625         1.14266       \n",
      "MCC(Matthews correlation coefficient)                             0.61196       0.61196       \n",
      "MCCI(Matthews correlation coefficient interpretation)             Moderate      Moderate      \n",
      "MCEN(Modified confusion entropy)                                  0.96113       0.5255        \n",
      "MK(Markedness)                                                    0.57065       0.57065       \n",
      "N(Condition negative)                                             96            20            \n",
      "NLR(Negative likelihood ratio)                                    0.27586       0.125         \n",
      "NLRI(Negative likelihood ratio interpretation)                    Poor          Fair          \n",
      "NPV(Negative predictive value)                                    0.94565       0.625         \n",
      "OC(Overlap coefficient)                                           0.75          0.94565       \n",
      "OOC(Otsuka-Ochiai coefficient)                                    0.68465       0.92574       \n",
      "OP(Optimized precision)                                           0.78497       0.78497       \n",
      "P(Condition positive or support)                                  20            96            \n",
      "PLR(Positive likelihood ratio)                                    8.0           3.625         \n",
      "PLRI(Positive likelihood ratio interpretation)                    Fair          Poor          \n",
      "POP(Population)                                                   116           116           \n",
      "PPV(Precision or positive predictive value)                       0.625         0.94565       \n",
      "PRE(Prevalence)                                                   0.17241       0.82759       \n",
      "Q(Yule Q - coefficient of colligation)                            0.93333       0.93333       \n",
      "QI(Yule Q interpretation)                                         Strong        Strong        \n",
      "RACC(Random accuracy)                                             0.03567       0.65636       \n",
      "RACCU(Random accuracy unbiased)                                   0.03597       0.65666       \n",
      "TN(True negative/correct rejection)                               87            15            \n",
      "TNR(Specificity or true negative rate)                            0.90625       0.75          \n",
      "TON(Test outcome negative)                                        92            24            \n",
      "TOP(Test outcome positive)                                        24            92            \n",
      "TP(True positive/hit)                                             15            87            \n",
      "TPR(Sensitivity, recall, hit rate, or true positive rate)         0.75          0.90625       \n",
      "Y(Youden index)                                                   0.65625       0.65625       \n",
      "dInd(Distance index)                                              0.267         0.267         \n",
      "sInd(Similarity index)                                            0.8112        0.8112        \n",
      "\n"
     ]
    }
   ],
   "source": [
    "print(cm_water)"
   ]
  },
  {
   "cell_type": "code",
   "execution_count": null,
   "metadata": {},
   "outputs": [],
   "source": []
  },
  {
   "cell_type": "code",
   "execution_count": null,
   "metadata": {},
   "outputs": [],
   "source": []
  },
  {
   "cell_type": "code",
   "execution_count": null,
   "metadata": {},
   "outputs": [],
   "source": []
  }
 ],
 "metadata": {
  "kernelspec": {
   "display_name": "mofdscribe",
   "language": "python",
   "name": "python3"
  },
  "language_info": {
   "codemirror_mode": {
    "name": "ipython",
    "version": 3
   },
   "file_extension": ".py",
   "mimetype": "text/x-python",
   "name": "python",
   "nbconvert_exporter": "python",
   "pygments_lexer": "ipython3",
   "version": "3.8.16"
  },
  "orig_nbformat": 4
 },
 "nbformat": 4,
 "nbformat_minor": 2
}
