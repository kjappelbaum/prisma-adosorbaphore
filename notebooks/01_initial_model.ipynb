{
 "cells": [
  {
   "cell_type": "code",
   "execution_count": 13,
   "metadata": {},
   "outputs": [
    {
     "name": "stdout",
     "output_type": "stream",
     "text": [
      "The autoreload extension is already loaded. To reload it, use:\n",
      "  %reload_ext autoreload\n"
     ]
    }
   ],
   "source": [
    "%load_ext autoreload \n",
    "%autoreload 2"
   ]
  },
  {
   "cell_type": "code",
   "execution_count": 14,
   "metadata": {},
   "outputs": [],
   "source": [
    "from plotutils.plotutils import *\n",
    "plt.style.use('plotutils/kevin.mplstyle')\n",
    "import seaborn as sns\n",
    "\n",
    "from glob import glob \n",
    "from pathlib import Path \n",
    "from fastcore.xtras import load_pickle\n",
    "import pandas as pd\n",
    "\n",
    "from sklearn.model_selection import train_test_split\n",
    "from sklearn.preprocessing import StandardScaler\n",
    "from umap import UMAP \n",
    "from xgboost import XGBClassifier\n",
    "\n",
    "import numpy as np\n",
    "\n",
    "from shap import TreeExplainer\n",
    "\n",
    "from pycm import ConfusionMatrix"
   ]
  },
  {
   "cell_type": "code",
   "execution_count": 15,
   "metadata": {},
   "outputs": [],
   "source": [
    "labels = pd.read_csv('../data/Cement_Storage_UK_TSA.csv')"
   ]
  },
  {
   "cell_type": "code",
   "execution_count": 16,
   "metadata": {},
   "outputs": [],
   "source": [
    "labels_2 = pd.read_csv('../data/Material_KPIs_cement.csv')"
   ]
  },
  {
   "cell_type": "code",
   "execution_count": 17,
   "metadata": {},
   "outputs": [],
   "source": [
    "all_features = glob('../data/features/*.csv')"
   ]
  },
  {
   "cell_type": "code",
   "execution_count": 18,
   "metadata": {},
   "outputs": [],
   "source": [
    "ph_images = glob('../data/ph_feat_new_2/*.csv')"
   ]
  },
  {
   "cell_type": "code",
   "execution_count": 19,
   "metadata": {},
   "outputs": [],
   "source": [
    "loaded_feat = []\n",
    "\n",
    "for feat in all_features:\n",
    "    name = Path(feat).stem \n",
    "    feat = pd.read_csv(feat)\n",
    "    feat['name'] = name\n",
    "    loaded_feat.append(feat)"
   ]
  },
  {
   "cell_type": "code",
   "execution_count": 20,
   "metadata": {},
   "outputs": [],
   "source": [
    "ph_images_feat = []\n",
    "\n",
    "for ph in ph_images: \n",
    "    name = Path(ph).stem \n",
    "    feat = pd.read_csv(ph)\n",
    "    feat['name'] = name\n",
    "    ph_images_feat.append(feat)"
   ]
  },
  {
   "cell_type": "code",
   "execution_count": 21,
   "metadata": {},
   "outputs": [],
   "source": [
    "all_features = pd.concat(loaded_feat)\n",
    "del all_features['Unnamed: 0']"
   ]
  },
  {
   "cell_type": "code",
   "execution_count": 22,
   "metadata": {},
   "outputs": [],
   "source": [
    "ph_images_feat = pd.concat(ph_images_feat)"
   ]
  },
  {
   "cell_type": "code",
   "execution_count": 23,
   "metadata": {},
   "outputs": [],
   "source": [
    "features = [f for f in ph_images_feat.columns if 'ph' in f]\n",
    "no_ph_features = [f for f in all_features.columns if f not in features]"
   ]
  },
  {
   "cell_type": "code",
   "execution_count": 24,
   "metadata": {},
   "outputs": [],
   "source": [
    "joined_feat = pd.merge(\n",
    "    ph_images_feat[features + ['name']], \n",
    "    all_features[no_ph_features], \n",
    "    left_on='name', \n",
    "    right_on='name'\n",
    ")"
   ]
  },
  {
   "cell_type": "code",
   "execution_count": 25,
   "metadata": {},
   "outputs": [],
   "source": [
    "all_features = joined_feat"
   ]
  },
  {
   "cell_type": "code",
   "execution_count": 26,
   "metadata": {},
   "outputs": [],
   "source": [
    "feature_names = list(set(all_features.columns) - set(['name']))"
   ]
  },
  {
   "cell_type": "code",
   "execution_count": 27,
   "metadata": {},
   "outputs": [],
   "source": [
    "all_data = pd.merge(all_features, labels, left_on='name', right_on='MOF')"
   ]
  },
  {
   "cell_type": "code",
   "execution_count": 28,
   "metadata": {},
   "outputs": [],
   "source": [
    "all_data = pd.merge(all_data, labels_2, left_on='name', right_on='MOF')"
   ]
  },
  {
   "attachments": {},
   "cell_type": "markdown",
   "metadata": {},
   "source": [
    "## Now, get the benchmark CAC"
   ]
  },
  {
   "cell_type": "code",
   "execution_count": 34,
   "metadata": {},
   "outputs": [],
   "source": [
    "import scipy.interpolate as sp_int\n",
    "\n",
    "MEA_nCAC_cem = 106.79148976385494  # €/tCO2\n",
    "MEA_recovery_cem = 90  # %\n",
    "\n",
    "data_CAC_cem = {'recovery': [90, 95, 99, 99.71, 99.93, 99.95],\n",
    "                'CAC_lit': [65, 65.5, 67.6, 69.1, 73.4, 74.1]} # for coal taken from https://doi.org/10.1016/j.ijggc.2021.103473 Figure 6\n",
    "\n",
    "CAC_interp_cem = sp_int.interp1d(data_CAC_cem['recovery'], data_CAC_cem['CAC_lit'], fill_value='extrapolate')\n",
    "df_MEA_CAC_cem_TSA = MEA_nCAC_cem * CAC_interp_cem(labels['recovery']) / data_CAC_cem['CAC_lit'][0]"
   ]
  },
  {
   "cell_type": "code",
   "execution_count": 35,
   "metadata": {},
   "outputs": [],
   "source": [
    "below_benchmark = []\n",
    "\n",
    "for i, row in all_data.iterrows(): \n",
    "    if row['CAC'] > 0:\n",
    "        if row['CAC'] < df_MEA_CAC_cem_TSA[i]:\n",
    "            below_benchmark.append(True)\n",
    "        else:\n",
    "            below_benchmark.append(False)\n",
    "    else:\n",
    "        below_benchmark.append(False)\n",
    "all_data['below_benchmark'] = below_benchmark"
   ]
  },
  {
   "cell_type": "code",
   "execution_count": 40,
   "metadata": {},
   "outputs": [],
   "source": [
    "all_data['below_water_benchmark'] = all_data['water_resistance'] < 0.7"
   ]
  },
  {
   "cell_type": "code",
   "execution_count": 41,
   "metadata": {},
   "outputs": [],
   "source": [
    "subset = all_data[all_data['below_benchmark'] == True]"
   ]
  },
  {
   "cell_type": "code",
   "execution_count": 42,
   "metadata": {},
   "outputs": [
    {
     "data": {
      "text/plain": [
       "below_water_benchmark\n",
       "True     321\n",
       "False     69\n",
       "Name: count, dtype: int64"
      ]
     },
     "execution_count": 42,
     "metadata": {},
     "output_type": "execute_result"
    }
   ],
   "source": [
    "subset['below_water_benchmark'].value_counts()"
   ]
  },
  {
   "cell_type": "code",
   "execution_count": 43,
   "metadata": {},
   "outputs": [],
   "source": [
    "all_data.to_pickle('../data/all_data.pkl')"
   ]
  },
  {
   "attachments": {},
   "cell_type": "markdown",
   "metadata": {},
   "source": [
    "## Build an initial model"
   ]
  },
  {
   "attachments": {},
   "cell_type": "markdown",
   "metadata": {},
   "source": [
    "### nCAC"
   ]
  },
  {
   "cell_type": "code",
   "execution_count": 114,
   "metadata": {},
   "outputs": [],
   "source": [
    "train, test = train_test_split(all_data, train_size=.7, stratify=all_data['below_benchmark'])"
   ]
  },
  {
   "cell_type": "code",
   "execution_count": 115,
   "metadata": {},
   "outputs": [],
   "source": [
    "ph_features = [f for f in feature_names if 'ph' in f]"
   ]
  },
  {
   "cell_type": "code",
   "execution_count": 116,
   "metadata": {},
   "outputs": [],
   "source": [
    "model = XGBClassifier(n_estimators=1000, max_depth=5, n_jobs=-1)"
   ]
  },
  {
   "cell_type": "code",
   "execution_count": 117,
   "metadata": {},
   "outputs": [
    {
     "data": {
      "text/html": [
       "<style>#sk-container-id-10 {color: black;background-color: white;}#sk-container-id-10 pre{padding: 0;}#sk-container-id-10 div.sk-toggleable {background-color: white;}#sk-container-id-10 label.sk-toggleable__label {cursor: pointer;display: block;width: 100%;margin-bottom: 0;padding: 0.3em;box-sizing: border-box;text-align: center;}#sk-container-id-10 label.sk-toggleable__label-arrow:before {content: \"▸\";float: left;margin-right: 0.25em;color: #696969;}#sk-container-id-10 label.sk-toggleable__label-arrow:hover:before {color: black;}#sk-container-id-10 div.sk-estimator:hover label.sk-toggleable__label-arrow:before {color: black;}#sk-container-id-10 div.sk-toggleable__content {max-height: 0;max-width: 0;overflow: hidden;text-align: left;background-color: #f0f8ff;}#sk-container-id-10 div.sk-toggleable__content pre {margin: 0.2em;color: black;border-radius: 0.25em;background-color: #f0f8ff;}#sk-container-id-10 input.sk-toggleable__control:checked~div.sk-toggleable__content {max-height: 200px;max-width: 100%;overflow: auto;}#sk-container-id-10 input.sk-toggleable__control:checked~label.sk-toggleable__label-arrow:before {content: \"▾\";}#sk-container-id-10 div.sk-estimator input.sk-toggleable__control:checked~label.sk-toggleable__label {background-color: #d4ebff;}#sk-container-id-10 div.sk-label input.sk-toggleable__control:checked~label.sk-toggleable__label {background-color: #d4ebff;}#sk-container-id-10 input.sk-hidden--visually {border: 0;clip: rect(1px 1px 1px 1px);clip: rect(1px, 1px, 1px, 1px);height: 1px;margin: -1px;overflow: hidden;padding: 0;position: absolute;width: 1px;}#sk-container-id-10 div.sk-estimator {font-family: monospace;background-color: #f0f8ff;border: 1px dotted black;border-radius: 0.25em;box-sizing: border-box;margin-bottom: 0.5em;}#sk-container-id-10 div.sk-estimator:hover {background-color: #d4ebff;}#sk-container-id-10 div.sk-parallel-item::after {content: \"\";width: 100%;border-bottom: 1px solid gray;flex-grow: 1;}#sk-container-id-10 div.sk-label:hover label.sk-toggleable__label {background-color: #d4ebff;}#sk-container-id-10 div.sk-serial::before {content: \"\";position: absolute;border-left: 1px solid gray;box-sizing: border-box;top: 0;bottom: 0;left: 50%;z-index: 0;}#sk-container-id-10 div.sk-serial {display: flex;flex-direction: column;align-items: center;background-color: white;padding-right: 0.2em;padding-left: 0.2em;position: relative;}#sk-container-id-10 div.sk-item {position: relative;z-index: 1;}#sk-container-id-10 div.sk-parallel {display: flex;align-items: stretch;justify-content: center;background-color: white;position: relative;}#sk-container-id-10 div.sk-item::before, #sk-container-id-10 div.sk-parallel-item::before {content: \"\";position: absolute;border-left: 1px solid gray;box-sizing: border-box;top: 0;bottom: 0;left: 50%;z-index: -1;}#sk-container-id-10 div.sk-parallel-item {display: flex;flex-direction: column;z-index: 1;position: relative;background-color: white;}#sk-container-id-10 div.sk-parallel-item:first-child::after {align-self: flex-end;width: 50%;}#sk-container-id-10 div.sk-parallel-item:last-child::after {align-self: flex-start;width: 50%;}#sk-container-id-10 div.sk-parallel-item:only-child::after {width: 0;}#sk-container-id-10 div.sk-dashed-wrapped {border: 1px dashed gray;margin: 0 0.4em 0.5em 0.4em;box-sizing: border-box;padding-bottom: 0.4em;background-color: white;}#sk-container-id-10 div.sk-label label {font-family: monospace;font-weight: bold;display: inline-block;line-height: 1.2em;}#sk-container-id-10 div.sk-label-container {text-align: center;}#sk-container-id-10 div.sk-container {/* jupyter's `normalize.less` sets `[hidden] { display: none; }` but bootstrap.min.css set `[hidden] { display: none !important; }` so we also need the `!important` here to be able to override the default hidden behavior on the sphinx rendered scikit-learn.org. See: https://github.com/scikit-learn/scikit-learn/issues/21755 */display: inline-block !important;position: relative;}#sk-container-id-10 div.sk-text-repr-fallback {display: none;}</style><div id=\"sk-container-id-10\" class=\"sk-top-container\"><div class=\"sk-text-repr-fallback\"><pre>XGBClassifier(base_score=None, booster=None, callbacks=None,\n",
       "              colsample_bylevel=None, colsample_bynode=None,\n",
       "              colsample_bytree=None, early_stopping_rounds=None,\n",
       "              enable_categorical=False, eval_metric=None, feature_types=None,\n",
       "              gamma=None, gpu_id=None, grow_policy=None, importance_type=None,\n",
       "              interaction_constraints=None, learning_rate=None, max_bin=None,\n",
       "              max_cat_threshold=None, max_cat_to_onehot=None,\n",
       "              max_delta_step=None, max_depth=5, max_leaves=None,\n",
       "              min_child_weight=None, missing=nan, monotone_constraints=None,\n",
       "              n_estimators=1000, n_jobs=-1, num_parallel_tree=None,\n",
       "              predictor=None, random_state=None, ...)</pre><b>In a Jupyter environment, please rerun this cell to show the HTML representation or trust the notebook. <br />On GitHub, the HTML representation is unable to render, please try loading this page with nbviewer.org.</b></div><div class=\"sk-container\" hidden><div class=\"sk-item\"><div class=\"sk-estimator sk-toggleable\"><input class=\"sk-toggleable__control sk-hidden--visually\" id=\"sk-estimator-id-10\" type=\"checkbox\" checked><label for=\"sk-estimator-id-10\" class=\"sk-toggleable__label sk-toggleable__label-arrow\">XGBClassifier</label><div class=\"sk-toggleable__content\"><pre>XGBClassifier(base_score=None, booster=None, callbacks=None,\n",
       "              colsample_bylevel=None, colsample_bynode=None,\n",
       "              colsample_bytree=None, early_stopping_rounds=None,\n",
       "              enable_categorical=False, eval_metric=None, feature_types=None,\n",
       "              gamma=None, gpu_id=None, grow_policy=None, importance_type=None,\n",
       "              interaction_constraints=None, learning_rate=None, max_bin=None,\n",
       "              max_cat_threshold=None, max_cat_to_onehot=None,\n",
       "              max_delta_step=None, max_depth=5, max_leaves=None,\n",
       "              min_child_weight=None, missing=nan, monotone_constraints=None,\n",
       "              n_estimators=1000, n_jobs=-1, num_parallel_tree=None,\n",
       "              predictor=None, random_state=None, ...)</pre></div></div></div></div></div>"
      ],
      "text/plain": [
       "XGBClassifier(base_score=None, booster=None, callbacks=None,\n",
       "              colsample_bylevel=None, colsample_bynode=None,\n",
       "              colsample_bytree=None, early_stopping_rounds=None,\n",
       "              enable_categorical=False, eval_metric=None, feature_types=None,\n",
       "              gamma=None, gpu_id=None, grow_policy=None, importance_type=None,\n",
       "              interaction_constraints=None, learning_rate=None, max_bin=None,\n",
       "              max_cat_threshold=None, max_cat_to_onehot=None,\n",
       "              max_delta_step=None, max_depth=5, max_leaves=None,\n",
       "              min_child_weight=None, missing=nan, monotone_constraints=None,\n",
       "              n_estimators=1000, n_jobs=-1, num_parallel_tree=None,\n",
       "              predictor=None, random_state=None, ...)"
      ]
     },
     "execution_count": 117,
     "metadata": {},
     "output_type": "execute_result"
    }
   ],
   "source": [
    "model.fit(train[feature_names], train['below_benchmark'].astype(int))"
   ]
  },
  {
   "cell_type": "code",
   "execution_count": 118,
   "metadata": {},
   "outputs": [],
   "source": [
    "predictions = model.predict(test[feature_names])"
   ]
  },
  {
   "cell_type": "code",
   "execution_count": 119,
   "metadata": {},
   "outputs": [
    {
     "data": {
      "text/plain": [
       "array([0, 1, 1, 1, 0, 1, 0, 0, 0, 1, 1, 1, 1, 0, 0, 1, 0, 1, 0, 1, 0, 1,\n",
       "       0, 1, 1, 1, 1, 1, 0, 1, 0, 1, 1, 1, 1, 0, 1, 1, 1, 1, 0, 0, 0, 1,\n",
       "       1, 1, 0, 1, 1, 0, 0, 1, 1, 0, 1, 0, 1, 0, 0, 1, 0, 1, 0, 0, 1, 0,\n",
       "       0, 1, 1, 1, 1, 0, 1, 1, 1, 1, 0, 0, 0, 1, 1, 0, 1, 0, 0, 1, 1, 1,\n",
       "       0, 1, 0, 1, 0, 0, 0, 1, 1, 1, 0, 1, 1, 0, 1, 1, 1, 0, 0, 1, 0, 0,\n",
       "       0, 0, 0, 0, 1, 0, 1, 1, 1, 0, 0, 0, 1, 1, 0, 0, 1, 1, 1, 0, 1, 1,\n",
       "       1, 1, 1, 1, 1, 1, 0, 0, 0, 0, 0, 0, 0, 0, 0, 1, 1, 1, 1, 1, 1, 0,\n",
       "       0, 0, 0, 0, 0, 0, 0, 1, 1, 0, 1, 1, 1, 1, 1, 1, 1, 0, 1, 0, 0, 1,\n",
       "       1, 0, 1, 1, 1, 0, 1, 1, 1, 1, 0, 1, 1, 0, 1, 1, 0, 0, 1, 1, 1, 0,\n",
       "       1, 0, 1, 1, 1, 1, 0, 0, 1, 1])"
      ]
     },
     "execution_count": 119,
     "metadata": {},
     "output_type": "execute_result"
    }
   ],
   "source": [
    "predictions"
   ]
  },
  {
   "cell_type": "code",
   "execution_count": 120,
   "metadata": {},
   "outputs": [],
   "source": [
    "cm = ConfusionMatrix(test['below_benchmark'].values.astype(int), predictions)"
   ]
  },
  {
   "cell_type": "code",
   "execution_count": 121,
   "metadata": {},
   "outputs": [
    {
     "data": {
      "image/png": "[encoded data removed]",
      "text/plain": [
       "<Figure size 330x250 with 2 Axes>"
      ]
     },
     "metadata": {},
     "output_type": "display_data"
    }
   ],
   "source": [
    "sns.heatmap(pd.DataFrame(cm.normalized_table), cmap='RdBu_r')\n",
    "plt.xticks([0.5,1.5], ['False', 'True'])\n",
    "plt.yticks([0.5,1.5], ['False', 'True'])\n",
    "\n",
    "plt.savefig('confusion_matrix_below_benchmark.pdf', bbox_inches='tight')"
   ]
  },
  {
   "cell_type": "code",
   "execution_count": 123,
   "metadata": {},
   "outputs": [
    {
     "name": "stdout",
     "output_type": "stream",
     "text": [
      "Predict  0        1        \n",
      "Actual\n",
      "0        59       31       \n",
      "\n",
      "1        30       88       \n",
      "\n",
      "\n",
      "\n",
      "\n",
      "\n",
      "Overall Statistics : \n",
      "\n",
      "95% CI                                                            (0.64486,0.7686)\n",
      "ACC Macro                                                         0.70673\n",
      "ARI                                                               0.16677\n",
      "AUNP                                                              0.70066\n",
      "AUNU                                                              0.70066\n",
      "Bangdiwala B                                                      0.50902\n",
      "Bennett S                                                         0.41346\n",
      "CBA                                                               0.69753\n",
      "CSI                                                               0.40187\n",
      "Chi-Squared                                                       33.59145\n",
      "Chi-Squared DF                                                    1\n",
      "Conditional Entropy                                               0.86599\n",
      "Cramer V                                                          0.40187\n",
      "Cross Entropy                                                     0.98696\n",
      "F1 Macro                                                          0.70092\n",
      "F1 Micro                                                          0.70673\n",
      "FNR Macro                                                         0.29934\n",
      "FNR Micro                                                         0.29327\n",
      "FPR Macro                                                         0.29934\n",
      "FPR Micro                                                         0.29327\n",
      "Gwet AC1                                                          0.42465\n",
      "Hamming Loss                                                      0.29327\n",
      "Joint Entropy                                                     1.85288\n",
      "KL Divergence                                                     7e-05\n",
      "Kappa                                                             0.40185\n",
      "Kappa 95% CI                                                      (0.27566,0.52804)\n",
      "Kappa No Prevalence                                               0.41346\n",
      "Kappa Standard Error                                              0.06438\n",
      "Kappa Unbiased                                                    0.40183\n",
      "Krippendorff Alpha                                                0.40327\n",
      "Lambda A                                                          0.32222\n",
      "Lambda B                                                          0.31461\n",
      "Mutual Information                                                0.11895\n",
      "NIR                                                               0.56731\n",
      "Overall ACC                                                       0.70673\n",
      "Overall CEN                                                       0.80806\n",
      "Overall J                                                         (1.08227,0.54114)\n",
      "Overall MCC                                                       0.40187\n",
      "Overall MCEN                                                      0.62528\n",
      "Overall RACC                                                      0.50971\n",
      "Overall RACCU                                                     0.50972\n",
      "P-Value                                                           2e-05\n",
      "PPV Macro                                                         0.70121\n",
      "PPV Micro                                                         0.70673\n",
      "Pearson C                                                         0.37288\n",
      "Phi-Squared                                                       0.1615\n",
      "RCI                                                               0.12053\n",
      "RR                                                                104.0\n",
      "Reference Entropy                                                 0.98689\n",
      "Response Entropy                                                  0.98494\n",
      "SOA1(Landis & Koch)                                               Moderate\n",
      "SOA2(Fleiss)                                                      Intermediate to Good\n",
      "SOA3(Altman)                                                      Moderate\n",
      "SOA4(Cicchetti)                                                   Fair\n",
      "SOA5(Cramer)                                                      Relatively Strong\n",
      "SOA6(Matthews)                                                    Weak\n",
      "Scott PI                                                          0.40183\n",
      "Standard Error                                                    0.03157\n",
      "TNR Macro                                                         0.70066\n",
      "TNR Micro                                                         0.70673\n",
      "TPR Macro                                                         0.70066\n",
      "TPR Micro                                                         0.70673\n",
      "Zero-one Loss                                                     61\n",
      "\n",
      "Class Statistics :\n",
      "\n",
      "Classes                                                           0             1             \n",
      "ACC(Accuracy)                                                     0.70673       0.70673       \n",
      "AGF(Adjusted F-score)                                             0.69762       0.70174       \n",
      "AGM(Adjusted geometric mean)                                      0.71606       0.68602       \n",
      "AM(Difference between automatic and manual classification)        -1            1             \n",
      "AUC(Area under the ROC curve)                                     0.70066       0.70066       \n",
      "AUCI(AUC value interpretation)                                    Good          Good          \n",
      "AUPR(Area under the PR curve)                                     0.65924       0.74263       \n",
      "BB(Braun-Blanquet similarity)                                     0.65556       0.7395        \n",
      "BCD(Bray-Curtis dissimilarity)                                    0.0024        0.0024        \n",
      "BM(Informedness or bookmaker informedness)                        0.40132       0.40132       \n",
      "CEN(Confusion entropy)                                            0.86998       0.76129       \n",
      "DOR(Diagnostic odds ratio)                                        5.5828        5.5828        \n",
      "DP(Discriminant power)                                            0.41176       0.41176       \n",
      "DPI(Discriminant power interpretation)                            Poor          Poor          \n",
      "ERR(Error rate)                                                   0.29327       0.29327       \n",
      "F0.5(F0.5 score)                                                  0.66143       0.74074       \n",
      "F1(F1 score - harmonic mean of precision and sensitivity)         0.65922       0.74262       \n",
      "F2(F2 score)                                                      0.65702       0.7445        \n",
      "FDR(False discovery rate)                                         0.33708       0.2605        \n",
      "FN(False negative/miss/type 2 error)                              31            30            \n",
      "FNR(Miss rate or false negative rate)                             0.34444       0.25424       \n",
      "FOR(False omission rate)                                          0.2605        0.33708       \n",
      "FP(False positive/type 1 error/false alarm)                       30            31            \n",
      "FPR(Fall-out or false positive rate)                              0.25424       0.34444       \n",
      "G(G-measure geometric mean of precision and sensitivity)          0.65923       0.74262       \n",
      "GI(Gini index)                                                    0.40132       0.40132       \n",
      "GM(G-mean geometric mean of specificity and sensitivity)          0.69921       0.69921       \n",
      "HD(Hamming distance)                                              61            61            \n",
      "IBA(Index of balanced accuracy)                                   0.44479       0.53299       \n",
      "ICSI(Individual classification success index)                     0.31848       0.48526       \n",
      "IS(Information score)                                             0.6155        0.38241       \n",
      "J(Jaccard index)                                                  0.49167       0.5906        \n",
      "LS(Lift score)                                                    1.53208       1.30352       \n",
      "MCC(Matthews correlation coefficient)                             0.40187       0.40187       \n",
      "MCCI(Matthews correlation coefficient interpretation)             Weak          Weak          \n",
      "MCEN(Modified confusion entropy)                                  1.00445       0.9368        \n",
      "MK(Markedness)                                                    0.40242       0.40242       \n",
      "N(Condition negative)                                             118           90            \n",
      "NLR(Negative likelihood ratio)                                    0.46187       0.38782       \n",
      "NLRI(Negative likelihood ratio interpretation)                    Poor          Poor          \n",
      "NPV(Negative predictive value)                                    0.7395        0.66292       \n",
      "OC(Overlap coefficient)                                           0.66292       0.74576       \n",
      "OOC(Otsuka-Ochiai coefficient)                                    0.65923       0.74262       \n",
      "OP(Optimized precision)                                           0.64236       0.64236       \n",
      "P(Condition positive or support)                                  90            118           \n",
      "PLR(Positive likelihood ratio)                                    2.57852       2.16512       \n",
      "PLRI(Positive likelihood ratio interpretation)                    Poor          Poor          \n",
      "POP(Population)                                                   208           208           \n",
      "PPV(Precision or positive predictive value)                       0.66292       0.7395        \n",
      "PRE(Prevalence)                                                   0.43269       0.56731       \n",
      "Q(Yule Q - coefficient of colligation)                            0.69618       0.69618       \n",
      "QI(Yule Q interpretation)                                         Moderate      Moderate      \n",
      "RACC(Random accuracy)                                             0.18514       0.32457       \n",
      "RACCU(Random accuracy unbiased)                                   0.18515       0.32457       \n",
      "TN(True negative/correct rejection)                               88            59            \n",
      "TNR(Specificity or true negative rate)                            0.74576       0.65556       \n",
      "TON(Test outcome negative)                                        119           89            \n",
      "TOP(Test outcome positive)                                        89            119           \n",
      "TP(True positive/hit)                                             59            88            \n",
      "TPR(Sensitivity, recall, hit rate, or true positive rate)         0.65556       0.74576       \n",
      "Y(Youden index)                                                   0.40132       0.40132       \n",
      "dInd(Distance index)                                              0.42811       0.42811       \n",
      "sInd(Similarity index)                                            0.69728       0.69728       \n",
      "\n"
     ]
    }
   ],
   "source": [
    "print(cm)"
   ]
  },
  {
   "attachments": {},
   "cell_type": "markdown",
   "metadata": {},
   "source": [
    "### Water resistance "
   ]
  },
  {
   "cell_type": "code",
   "execution_count": 124,
   "metadata": {},
   "outputs": [],
   "source": [
    "train, test = train_test_split(subset, train_size=.7, stratify=subset['below_water_benchmark'])"
   ]
  },
  {
   "cell_type": "code",
   "execution_count": 125,
   "metadata": {},
   "outputs": [],
   "source": [
    "model_water = XGBClassifier(n_estimators=1000, max_depth=5, n_jobs=-1,  scale_pos_weight=69/321)"
   ]
  },
  {
   "cell_type": "code",
   "execution_count": 126,
   "metadata": {},
   "outputs": [
    {
     "data": {
      "text/html": [
       "<style>#sk-container-id-11 {color: black;background-color: white;}#sk-container-id-11 pre{padding: 0;}#sk-container-id-11 div.sk-toggleable {background-color: white;}#sk-container-id-11 label.sk-toggleable__label {cursor: pointer;display: block;width: 100%;margin-bottom: 0;padding: 0.3em;box-sizing: border-box;text-align: center;}#sk-container-id-11 label.sk-toggleable__label-arrow:before {content: \"▸\";float: left;margin-right: 0.25em;color: #696969;}#sk-container-id-11 label.sk-toggleable__label-arrow:hover:before {color: black;}#sk-container-id-11 div.sk-estimator:hover label.sk-toggleable__label-arrow:before {color: black;}#sk-container-id-11 div.sk-toggleable__content {max-height: 0;max-width: 0;overflow: hidden;text-align: left;background-color: #f0f8ff;}#sk-container-id-11 div.sk-toggleable__content pre {margin: 0.2em;color: black;border-radius: 0.25em;background-color: #f0f8ff;}#sk-container-id-11 input.sk-toggleable__control:checked~div.sk-toggleable__content {max-height: 200px;max-width: 100%;overflow: auto;}#sk-container-id-11 input.sk-toggleable__control:checked~label.sk-toggleable__label-arrow:before {content: \"▾\";}#sk-container-id-11 div.sk-estimator input.sk-toggleable__control:checked~label.sk-toggleable__label {background-color: #d4ebff;}#sk-container-id-11 div.sk-label input.sk-toggleable__control:checked~label.sk-toggleable__label {background-color: #d4ebff;}#sk-container-id-11 input.sk-hidden--visually {border: 0;clip: rect(1px 1px 1px 1px);clip: rect(1px, 1px, 1px, 1px);height: 1px;margin: -1px;overflow: hidden;padding: 0;position: absolute;width: 1px;}#sk-container-id-11 div.sk-estimator {font-family: monospace;background-color: #f0f8ff;border: 1px dotted black;border-radius: 0.25em;box-sizing: border-box;margin-bottom: 0.5em;}#sk-container-id-11 div.sk-estimator:hover {background-color: #d4ebff;}#sk-container-id-11 div.sk-parallel-item::after {content: \"\";width: 100%;border-bottom: 1px solid gray;flex-grow: 1;}#sk-container-id-11 div.sk-label:hover label.sk-toggleable__label {background-color: #d4ebff;}#sk-container-id-11 div.sk-serial::before {content: \"\";position: absolute;border-left: 1px solid gray;box-sizing: border-box;top: 0;bottom: 0;left: 50%;z-index: 0;}#sk-container-id-11 div.sk-serial {display: flex;flex-direction: column;align-items: center;background-color: white;padding-right: 0.2em;padding-left: 0.2em;position: relative;}#sk-container-id-11 div.sk-item {position: relative;z-index: 1;}#sk-container-id-11 div.sk-parallel {display: flex;align-items: stretch;justify-content: center;background-color: white;position: relative;}#sk-container-id-11 div.sk-item::before, #sk-container-id-11 div.sk-parallel-item::before {content: \"\";position: absolute;border-left: 1px solid gray;box-sizing: border-box;top: 0;bottom: 0;left: 50%;z-index: -1;}#sk-container-id-11 div.sk-parallel-item {display: flex;flex-direction: column;z-index: 1;position: relative;background-color: white;}#sk-container-id-11 div.sk-parallel-item:first-child::after {align-self: flex-end;width: 50%;}#sk-container-id-11 div.sk-parallel-item:last-child::after {align-self: flex-start;width: 50%;}#sk-container-id-11 div.sk-parallel-item:only-child::after {width: 0;}#sk-container-id-11 div.sk-dashed-wrapped {border: 1px dashed gray;margin: 0 0.4em 0.5em 0.4em;box-sizing: border-box;padding-bottom: 0.4em;background-color: white;}#sk-container-id-11 div.sk-label label {font-family: monospace;font-weight: bold;display: inline-block;line-height: 1.2em;}#sk-container-id-11 div.sk-label-container {text-align: center;}#sk-container-id-11 div.sk-container {/* jupyter's `normalize.less` sets `[hidden] { display: none; }` but bootstrap.min.css set `[hidden] { display: none !important; }` so we also need the `!important` here to be able to override the default hidden behavior on the sphinx rendered scikit-learn.org. See: https://github.com/scikit-learn/scikit-learn/issues/21755 */display: inline-block !important;position: relative;}#sk-container-id-11 div.sk-text-repr-fallback {display: none;}</style><div id=\"sk-container-id-11\" class=\"sk-top-container\"><div class=\"sk-text-repr-fallback\"><pre>XGBClassifier(base_score=None, booster=None, callbacks=None,\n",
       "              colsample_bylevel=None, colsample_bynode=None,\n",
       "              colsample_bytree=None, early_stopping_rounds=None,\n",
       "              enable_categorical=False, eval_metric=None, feature_types=None,\n",
       "              gamma=None, gpu_id=None, grow_policy=None, importance_type=None,\n",
       "              interaction_constraints=None, learning_rate=None, max_bin=None,\n",
       "              max_cat_threshold=None, max_cat_to_onehot=None,\n",
       "              max_delta_step=None, max_depth=5, max_leaves=None,\n",
       "              min_child_weight=None, missing=nan, monotone_constraints=None,\n",
       "              n_estimators=1000, n_jobs=-1, num_parallel_tree=None,\n",
       "              predictor=None, random_state=None, ...)</pre><b>In a Jupyter environment, please rerun this cell to show the HTML representation or trust the notebook. <br />On GitHub, the HTML representation is unable to render, please try loading this page with nbviewer.org.</b></div><div class=\"sk-container\" hidden><div class=\"sk-item\"><div class=\"sk-estimator sk-toggleable\"><input class=\"sk-toggleable__control sk-hidden--visually\" id=\"sk-estimator-id-11\" type=\"checkbox\" checked><label for=\"sk-estimator-id-11\" class=\"sk-toggleable__label sk-toggleable__label-arrow\">XGBClassifier</label><div class=\"sk-toggleable__content\"><pre>XGBClassifier(base_score=None, booster=None, callbacks=None,\n",
       "              colsample_bylevel=None, colsample_bynode=None,\n",
       "              colsample_bytree=None, early_stopping_rounds=None,\n",
       "              enable_categorical=False, eval_metric=None, feature_types=None,\n",
       "              gamma=None, gpu_id=None, grow_policy=None, importance_type=None,\n",
       "              interaction_constraints=None, learning_rate=None, max_bin=None,\n",
       "              max_cat_threshold=None, max_cat_to_onehot=None,\n",
       "              max_delta_step=None, max_depth=5, max_leaves=None,\n",
       "              min_child_weight=None, missing=nan, monotone_constraints=None,\n",
       "              n_estimators=1000, n_jobs=-1, num_parallel_tree=None,\n",
       "              predictor=None, random_state=None, ...)</pre></div></div></div></div></div>"
      ],
      "text/plain": [
       "XGBClassifier(base_score=None, booster=None, callbacks=None,\n",
       "              colsample_bylevel=None, colsample_bynode=None,\n",
       "              colsample_bytree=None, early_stopping_rounds=None,\n",
       "              enable_categorical=False, eval_metric=None, feature_types=None,\n",
       "              gamma=None, gpu_id=None, grow_policy=None, importance_type=None,\n",
       "              interaction_constraints=None, learning_rate=None, max_bin=None,\n",
       "              max_cat_threshold=None, max_cat_to_onehot=None,\n",
       "              max_delta_step=None, max_depth=5, max_leaves=None,\n",
       "              min_child_weight=None, missing=nan, monotone_constraints=None,\n",
       "              n_estimators=1000, n_jobs=-1, num_parallel_tree=None,\n",
       "              predictor=None, random_state=None, ...)"
      ]
     },
     "execution_count": 126,
     "metadata": {},
     "output_type": "execute_result"
    }
   ],
   "source": [
    "model_water.fit(train[features], train['below_water_benchmark'].astype(int))"
   ]
  },
  {
   "cell_type": "code",
   "execution_count": 127,
   "metadata": {},
   "outputs": [],
   "source": [
    "predictions_water = model_water.predict(test[features])"
   ]
  },
  {
   "cell_type": "code",
   "execution_count": 128,
   "metadata": {},
   "outputs": [],
   "source": [
    "cm_water = ConfusionMatrix(test['below_water_benchmark'].values.astype(int), predictions_water)"
   ]
  },
  {
   "cell_type": "code",
   "execution_count": 129,
   "metadata": {},
   "outputs": [
    {
     "data": {
      "image/png": "[encoded data removed]",
      "text/plain": [
       "<Figure size 330x250 with 2 Axes>"
      ]
     },
     "metadata": {},
     "output_type": "display_data"
    }
   ],
   "source": [
    "sns.heatmap(pd.DataFrame(cm_water.normalized_table), cmap='RdBu_r')\n",
    "plt.xticks([0.5,1.5], ['False', 'True'])\n",
    "plt.yticks([0.5,1.5], ['False', 'True'])\n",
    "\n",
    "plt.savefig('confusion_matrix_water.pdf', bbox_inches='tight')"
   ]
  },
  {
   "cell_type": "code",
   "execution_count": 130,
   "metadata": {},
   "outputs": [
    {
     "name": "stdout",
     "output_type": "stream",
     "text": [
      "Predict  0        1        \n",
      "Actual\n",
      "0        17       4        \n",
      "\n",
      "1        4        92       \n",
      "\n",
      "\n",
      "\n",
      "\n",
      "\n",
      "Overall Statistics : \n",
      "\n",
      "95% CI                                                            (0.88589,0.97736)\n",
      "ACC Macro                                                         0.93162\n",
      "ARI                                                               0.69233\n",
      "AUNP                                                              0.88393\n",
      "AUNU                                                              0.88393\n",
      "Bangdiwala B                                                      0.90639\n",
      "Bennett S                                                         0.86325\n",
      "CBA                                                               0.88393\n",
      "CSI                                                               0.76786\n",
      "Chi-Squared                                                       68.98374\n",
      "Chi-Squared DF                                                    1\n",
      "Conditional Entropy                                               0.33112\n",
      "Cramer V                                                          0.76786\n",
      "Cross Entropy                                                     0.67895\n",
      "F1 Macro                                                          0.88393\n",
      "F1 Micro                                                          0.93162\n",
      "FNR Macro                                                         0.11607\n",
      "FNR Micro                                                         0.06838\n",
      "FPR Macro                                                         0.11607\n",
      "FPR Micro                                                         0.06838\n",
      "Gwet AC1                                                          0.90308\n",
      "Hamming Loss                                                      0.06838\n",
      "Joint Entropy                                                     1.01007\n",
      "KL Divergence                                                     0.0\n",
      "Kappa                                                             0.76786\n",
      "Kappa 95% CI                                                      (0.61259,0.92313)\n",
      "Kappa No Prevalence                                               0.86325\n",
      "Kappa Standard Error                                              0.07922\n",
      "Kappa Unbiased                                                    0.76786\n",
      "Krippendorff Alpha                                                0.76885\n",
      "Lambda A                                                          0.61905\n",
      "Lambda B                                                          0.61905\n",
      "Mutual Information                                                0.34784\n",
      "NIR                                                               0.82051\n",
      "Overall ACC                                                       0.93162\n",
      "Overall CEN                                                       0.30692\n",
      "Overall J                                                         (1.6,0.8)\n",
      "Overall MCC                                                       0.76786\n",
      "Overall MCEN                                                      0.24915\n",
      "Overall RACC                                                      0.70546\n",
      "Overall RACCU                                                     0.70546\n",
      "P-Value                                                           0.00046\n",
      "PPV Macro                                                         0.88393\n",
      "PPV Micro                                                         0.93162\n",
      "Pearson C                                                         0.60903\n",
      "Phi-Squared                                                       0.5896\n",
      "RCI                                                               0.51232\n",
      "RR                                                                58.5\n",
      "Reference Entropy                                                 0.67895\n",
      "Response Entropy                                                  0.67895\n",
      "SOA1(Landis & Koch)                                               Substantial\n",
      "SOA2(Fleiss)                                                      Excellent\n",
      "SOA3(Altman)                                                      Good\n",
      "SOA4(Cicchetti)                                                   Excellent\n",
      "SOA5(Cramer)                                                      Strong\n",
      "SOA6(Matthews)                                                    Strong\n",
      "Scott PI                                                          0.76786\n",
      "Standard Error                                                    0.02333\n",
      "TNR Macro                                                         0.88393\n",
      "TNR Micro                                                         0.93162\n",
      "TPR Macro                                                         0.88393\n",
      "TPR Micro                                                         0.93162\n",
      "Zero-one Loss                                                     8\n",
      "\n",
      "Class Statistics :\n",
      "\n",
      "Classes                                                           0             1             \n",
      "ACC(Accuracy)                                                     0.93162       0.93162       \n",
      "AGF(Adjusted F-score)                                             0.88079       0.88079       \n",
      "AGM(Adjusted geometric mean)                                      0.91574       0.86995       \n",
      "AM(Difference between automatic and manual classification)        0             0             \n",
      "AUC(Area under the ROC curve)                                     0.88393       0.88393       \n",
      "AUCI(AUC value interpretation)                                    Very Good     Very Good     \n",
      "AUPR(Area under the PR curve)                                     0.80952       0.95833       \n",
      "BB(Braun-Blanquet similarity)                                     0.80952       0.95833       \n",
      "BCD(Bray-Curtis dissimilarity)                                    0.0           0.0           \n",
      "BM(Informedness or bookmaker informedness)                        0.76786       0.76786       \n",
      "CEN(Confusion entropy)                                            0.64616       0.23271       \n",
      "DOR(Diagnostic odds ratio)                                        97.75         97.75         \n",
      "DP(Discriminant power)                                            1.09721       1.09721       \n",
      "DPI(Discriminant power interpretation)                            Limited       Limited       \n",
      "ERR(Error rate)                                                   0.06838       0.06838       \n",
      "F0.5(F0.5 score)                                                  0.80952       0.95833       \n",
      "F1(F1 score - harmonic mean of precision and sensitivity)         0.80952       0.95833       \n",
      "F2(F2 score)                                                      0.80952       0.95833       \n",
      "FDR(False discovery rate)                                         0.19048       0.04167       \n",
      "FN(False negative/miss/type 2 error)                              4             4             \n",
      "FNR(Miss rate or false negative rate)                             0.19048       0.04167       \n",
      "FOR(False omission rate)                                          0.04167       0.19048       \n",
      "FP(False positive/type 1 error/false alarm)                       4             4             \n",
      "FPR(Fall-out or false positive rate)                              0.04167       0.19048       \n",
      "G(G-measure geometric mean of precision and sensitivity)          0.80952       0.95833       \n",
      "GI(Gini index)                                                    0.76786       0.76786       \n",
      "GM(G-mean geometric mean of specificity and sensitivity)          0.88079       0.88079       \n",
      "HD(Hamming distance)                                              8             8             \n",
      "IBA(Index of balanced accuracy)                                   0.66035       0.89124       \n",
      "ICSI(Individual classification success index)                     0.61905       0.91667       \n",
      "IS(Information score)                                             2.17319       0.224         \n",
      "J(Jaccard index)                                                  0.68          0.92          \n",
      "LS(Lift score)                                                    4.5102        1.16797       \n",
      "MCC(Matthews correlation coefficient)                             0.76786       0.76786       \n",
      "MCCI(Matthews correlation coefficient interpretation)             Strong        Strong        \n",
      "MCEN(Modified confusion entropy)                                  0.84603       0.37151       \n",
      "MK(Markedness)                                                    0.76786       0.76786       \n",
      "N(Condition negative)                                             96            21            \n",
      "NLR(Negative likelihood ratio)                                    0.19876       0.05147       \n",
      "NLRI(Negative likelihood ratio interpretation)                    Fair          Good          \n",
      "NPV(Negative predictive value)                                    0.95833       0.80952       \n",
      "OC(Overlap coefficient)                                           0.80952       0.95833       \n",
      "OOC(Otsuka-Ochiai coefficient)                                    0.80952       0.95833       \n",
      "OP(Optimized precision)                                           0.84745       0.84745       \n",
      "P(Condition positive or support)                                  21            96            \n",
      "PLR(Positive likelihood ratio)                                    19.42857      5.03125       \n",
      "PLRI(Positive likelihood ratio interpretation)                    Good          Fair          \n",
      "POP(Population)                                                   117           117           \n",
      "PPV(Precision or positive predictive value)                       0.80952       0.95833       \n",
      "PRE(Prevalence)                                                   0.17949       0.82051       \n",
      "Q(Yule Q - coefficient of colligation)                            0.97975       0.97975       \n",
      "QI(Yule Q interpretation)                                         Strong        Strong        \n",
      "RACC(Random accuracy)                                             0.03222       0.67324       \n",
      "RACCU(Random accuracy unbiased)                                   0.03222       0.67324       \n",
      "TN(True negative/correct rejection)                               92            17            \n",
      "TNR(Specificity or true negative rate)                            0.95833       0.80952       \n",
      "TON(Test outcome negative)                                        96            21            \n",
      "TOP(Test outcome positive)                                        21            96            \n",
      "TP(True positive/hit)                                             17            92            \n",
      "TPR(Sensitivity, recall, hit rate, or true positive rate)         0.80952       0.95833       \n",
      "Y(Youden index)                                                   0.76786       0.76786       \n",
      "dInd(Distance index)                                              0.19498       0.19498       \n",
      "sInd(Similarity index)                                            0.86213       0.86213       \n",
      "\n"
     ]
    }
   ],
   "source": [
    "print(cm_water)"
   ]
  },
  {
   "cell_type": "code",
   "execution_count": null,
   "metadata": {},
   "outputs": [],
   "source": []
  },
  {
   "cell_type": "code",
   "execution_count": null,
   "metadata": {},
   "outputs": [],
   "source": []
  },
  {
   "cell_type": "code",
   "execution_count": null,
   "metadata": {},
   "outputs": [],
   "source": []
  }
 ],
 "metadata": {
  "kernelspec": {
   "display_name": "mofdscribe",
   "language": "python",
   "name": "python3"
  },
  "language_info": {
   "codemirror_mode": {
    "name": "ipython",
    "version": 3
   },
   "file_extension": ".py",
   "mimetype": "text/x-python",
   "name": "python",
   "nbconvert_exporter": "python",
   "pygments_lexer": "ipython3",
   "version": "3.8.16"
  },
  "orig_nbformat": 4
 },
 "nbformat": 4,
 "nbformat_minor": 2
}
