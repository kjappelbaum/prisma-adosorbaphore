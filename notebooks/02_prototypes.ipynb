{
 "cells": [
  {
   "cell_type": "code",
   "execution_count": 1,
   "metadata": {},
   "outputs": [],
   "source": [
    "%load_ext autoreload \n",
    "%autoreload 2"
   ]
  },
  {
   "cell_type": "code",
   "execution_count": 8,
   "metadata": {},
   "outputs": [],
   "source": [
    "from mmdcritic import MMDCritic\n",
    "import pandas as pd\n",
    "from sklearn.preprocessing import StandardScaler\n",
    "from fastcore.xtras import load_pickle\n",
    "import numpy as np \n",
    "from pymatgen.core import Structure \n",
    "from pymatgen.io.ase import AseAtomsAdaptor \n",
    "import os \n",
    "from ase.io import read, write\n",
    "\n",
    "from visualization import show_atoms, create_atoms_with_color_arrays"
   ]
  },
  {
   "cell_type": "code",
   "execution_count": 4,
   "metadata": {},
   "outputs": [],
   "source": [
    "all_data = pd.read_pickle('../data/all_data.pkl')\n",
    "subset = all_data[all_data['below_benchmark'] == True]\n",
    "feature_names = load_pickle('../data/feature_names.pkl')\n",
    "feature_names = [f for f in all_data.columns if 'phimage' in f]"
   ]
  },
  {
   "cell_type": "code",
   "execution_count": 5,
   "metadata": {},
   "outputs": [],
   "source": [
    "top_50 = all_data[all_data['water_resistance'] > 0.7].sort_values(by='water_resistance').iloc[-50:]\n",
    "bottom_50 = all_data[all_data['water_resistance'] < 0.3].sort_values(by='water_resistance').iloc[:50]"
   ]
  },
  {
   "attachments": {},
   "cell_type": "markdown",
   "metadata": {},
   "source": [
    "## Prototypes for top-performing structures"
   ]
  },
  {
   "cell_type": "code",
   "execution_count": 6,
   "metadata": {},
   "outputs": [
    {
     "name": "stdout",
     "output_type": "stream",
     "text": [
      "Building kernel\n"
     ]
    }
   ],
   "source": [
    "mmd_top_water = MMDCritic(StandardScaler().fit_transform(top_50[feature_names].values))\n",
    "top_prototypes = mmd_top_water.select_prototypes(6)"
   ]
  },
  {
   "cell_type": "code",
   "execution_count": 7,
   "metadata": {},
   "outputs": [],
   "source": [
    "top_names = top_50['MOF_x'].values[top_prototypes]"
   ]
  },
  {
   "cell_type": "code",
   "execution_count": null,
   "metadata": {},
   "outputs": [],
   "source": [
    "for name in top_names:\n",
    "    s = Structure.from_file(f'../data/CIF-Files/{name}.cif')\n",
    "    show_atoms(create_atoms_with_color_arrays(s, np.arange(len(s))), os.path.join('..', 'visuals', 'top_water_structures', f'{name}.pdf'))"
   ]
  },
  {
   "attachments": {},
   "cell_type": "markdown",
   "metadata": {},
   "source": [
    "## Prototypes for bad-performing structures"
   ]
  },
  {
   "cell_type": "code",
   "execution_count": null,
   "metadata": {},
   "outputs": [],
   "source": [
    "bottom_prototypes = bottom_50['MOF_x'].values[bottom_prototypes]"
   ]
  },
  {
   "cell_type": "code",
   "execution_count": null,
   "metadata": {},
   "outputs": [],
   "source": [
    "mmd_bottom_water = MMDCritic(StandardScaler().fit_transform(bottom_50[feature_names].values))\n",
    "bottom_prototypes = mmd_bottom_water.select_prototypes(6)"
   ]
  },
  {
   "cell_type": "code",
   "execution_count": null,
   "metadata": {},
   "outputs": [],
   "source": [
    "for name in bottom_prototypes:\n",
    "    s = Structure.from_file(f'../data/CIF-Files/{name}.cif')\n",
    "    show_atoms(create_atoms_with_color_arrays(s, np.arange(len(s))), os.path.join('..', 'visuals', 'bottom_water_structures', f'{name}.pdf'))"
   ]
  }
 ],
 "metadata": {
  "kernelspec": {
   "display_name": "mofdscribe",
   "language": "python",
   "name": "python3"
  },
  "language_info": {
   "codemirror_mode": {
    "name": "ipython",
    "version": 3
   },
   "file_extension": ".py",
   "mimetype": "text/x-python",
   "name": "python",
   "nbconvert_exporter": "python",
   "pygments_lexer": "ipython3",
   "version": "3.8.16"
  },
  "orig_nbformat": 4
 },
 "nbformat": 4,
 "nbformat_minor": 2
}
